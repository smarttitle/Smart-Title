{
 "cells": [
  {
   "cell_type": "markdown",
   "metadata": {},
   "source": [
    "# Predict characters using 1 cell RNN using Chainer"
   ]
  },
  {
   "cell_type": "markdown",
   "metadata": {},
   "source": [
    "### Basics"
   ]
  },
  {
   "cell_type": "code",
   "execution_count": 1,
   "metadata": {
    "collapsed": true
   },
   "outputs": [],
   "source": [
    "import numpy as np\n",
    "import sys\n",
    "import glob\n",
    "import shutil"
   ]
  },
  {
   "cell_type": "markdown",
   "metadata": {
    "collapsed": true
   },
   "source": [
    "### Create the dataset"
   ]
  },
  {
   "cell_type": "code",
   "execution_count": 2,
   "metadata": {
    "collapsed": false
   },
   "outputs": [],
   "source": [
    "def create_dataset(ds_path):\n",
    "\"\"\"\n",
    "Creates dataset from a corpus of texts.\n",
    "Args :\n",
    "    ds_path : File containing text or a .txt file.\n",
    "Returns:\n",
    "    char_idx : Character-to-Index mapping of the \n",
    "        unique characters in the ds_path.\n",
    "    idx_char : Character-to-Index mapping of the \n",
    "        unique characters in the ds_path. \n",
    "    idx : Indexes of the sequence of characters in\n",
    "        the ds_path\n",
    "    data : Sequence of character in the ds_path\n",
    "\"\"\"\n",
    "    data = open(ds_path, 'r').read()\n",
    "    symbols = list(set(data))\n",
    "    char_idx = {char:idx for idx, char in enumerate(symbols)}\n",
    "    idx_char = {idx:char for idx, char in enumerate(symbols)}\n",
    "    idx = [char_idx[char] for idx, char in enumerate(data)]\n",
    "    idx = np.asarray(idx, dtype=np.int32)\n",
    "    return char_idx, idx_char, idx, data"
   ]
  },
  {
   "cell_type": "markdown",
   "metadata": {},
   "source": [
    "### RNN Model"
   ]
  },
  {
   "cell_type": "code",
   "execution_count": 3,
   "metadata": {
    "collapsed": true
   },
   "outputs": [],
   "source": [
    "import chainer\n",
    "import chainer\n",
    "from chainer import cuda, Function, gradient_check, report, training, utils, Variable\n",
    "from chainer import datasets, iterators, optimizers, serializers\n",
    "from chainer import Link, Chain, ChainList\n",
    "import chainer.functions as F\n",
    "import chainer.links as L\n",
    "from chainer.training import extensions"
   ]
  },
  {
   "cell_type": "code",
   "execution_count": 4,
   "metadata": {
    "collapsed": false
   },
   "outputs": [],
   "source": [
    "class RNN(chainer.Chain):\n",
    "\"\"\"\n",
    "    Chainer implementation of a single cell RNN.\n",
    "    Note : \n",
    "        L.EmbedID handles word vectorization\n",
    "        required by typical NLP tasks. Takes \n",
    "        a character ID [1, 1] vector as input\n",
    "        and returns a vector with dimensions\n",
    "        [1 , #of items in alphabet of the dataset]\n",
    "        as output.\n",
    "\"\"\"\n",
    "    def __init__(self, n_vocab, n_units):\n",
    "        super(RNN, self).__init__(\n",
    "            embedID = L.EmbedID(n_vocab, n_units), # This layer generated the typical word vector\n",
    "            l1 = L.Linear(n_units, n_units), # The input layer\n",
    "            h1 = L.Linear(n_units, n_units), # hidden Layer\n",
    "            l2 = L.Linear(n_units, n_vocab) # output layer\n",
    "        )\n",
    "        self.r_h1 = None # hidden state for the first hidden layer\n",
    "    \n",
    "    \n",
    "    def reset_state(self):\n",
    "        self.r_h1 = None\n",
    "    \n",
    "    def __call__(self, x):\n",
    "    \"\"\"\n",
    "        This is called each time an input is\n",
    "        fed forward into the model.\n",
    "    \"\"\"\n",
    "        h = self.embedID(x) # get the word vector.\n",
    "        if self.r_h1 is None: # if it is the first time step.\n",
    "            self.r_h1 = F.tanh(self.l1(h)) # Simply feed forward and initialize the recurrent hidden state.\n",
    "        else:\n",
    "            self.r_h1 = F.tanh(self.l1(h) + self.h1(self.r_h1)) # recurrent state = f(Wht-1, Wht). general update rule for RNNs.\n",
    "        y = self.l2(self.r_h1) # get the output.\n",
    "        return y\n",
    "            "
   ]
  },
  {
   "cell_type": "markdown",
   "metadata": {},
   "source": [
    "### Setup the dataset iterator"
   ]
  },
  {
   "cell_type": "code",
   "execution_count": 5,
   "metadata": {
    "collapsed": true
   },
   "outputs": [],
   "source": [
    "class ParallelSequentialIterator(chainer.dataset.Iterator):\n",
    " \n",
    "    def __init__(self, dataset, batch_size, repeat=True):\n",
    "        self.dataset = dataset\n",
    "        self.batch_size = batch_size\n",
    "        self.epoch = 0\n",
    "        self.is_new_epoch = False\n",
    "        self.repeat = repeat\n",
    "        length = len(dataset)\n",
    "        self.offsets = [i * length // batch_size for i in range(batch_size)]\n",
    "        self.iteration = 0\n",
    " \n",
    "    def __next__(self):\n",
    "        length = len(self.dataset)\n",
    "        if not self.repeat and self.iteration * self.batch_size >= length:\n",
    "            raise StopIteration\n",
    "        cur_words = self.get_words()\n",
    "        self.iteration += 1\n",
    "        next_words = self.get_words()\n",
    " \n",
    "        epoch = self.iteration * self.batch_size // length\n",
    "        self.is_new_epoch = self.epoch < epoch\n",
    "        if self.is_new_epoch:\n",
    "            self.epoch = epoch\n",
    "         \n",
    "        return list(zip(cur_words, next_words))\n",
    " \n",
    "    @property\n",
    "    def epoch_detail(self):\n",
    "        return self.iteration * self.batch_size / len(self.dataset)\n",
    " \n",
    "    def get_words(self):\n",
    "        return [self.dataset[(offset + self.iteration) % len(self.dataset)]\n",
    "                for offset in self.offsets]\n",
    " \n",
    "    def serialize(self, serializer):\n",
    "        self.iteration = serializer('iteration', self.iteration)\n",
    "        self.epoch = serializer('epoch', self.epoch)"
   ]
  },
  {
   "cell_type": "markdown",
   "metadata": {},
   "source": [
    "### Setup the updater"
   ]
  },
  {
   "cell_type": "code",
   "execution_count": 6,
   "metadata": {
    "collapsed": false
   },
   "outputs": [],
   "source": [
    "class BPTTUpdater(chainer.training.StandardUpdater):\n",
    " \n",
    "    def __init__(self, train_iter, optimizer, bprop_len, device):\n",
    "        super(BPTTUpdater, self).__init__(\n",
    "            train_iter, optimizer, device=device)\n",
    "        self.bprop_len = bprop_len\n",
    " \n",
    "    def update_core(self):\n",
    "        loss = 0\n",
    "        train_iter = self.get_iterator('main')\n",
    "        optimizer = self.get_optimizer('main')\n",
    " \n",
    "        for i in range(self.bprop_len):\n",
    "            batch = train_iter.__next__()\n",
    "            x, t = self.converter(batch, self.device)\n",
    "            loss += optimizer.target(chainer.Variable(x), chainer.Variable(t))\n",
    "        optimizer.target.cleargrads()\n",
    "        loss.backward()\n",
    "        loss.unchain_backward()\n",
    "        optimizer.update()"
   ]
  },
  {
   "cell_type": "markdown",
   "metadata": {},
   "source": [
    "### Setup the training script"
   ]
  },
  {
   "cell_type": "code",
   "execution_count": 7,
   "metadata": {
    "collapsed": true
   },
   "outputs": [],
   "source": [
    "n_epochs = 10  # epochs\n",
    "n_units = 100   # neurons in the hidden cell\n",
    "batch_size = 100\n",
    "train_test_split = 100000"
   ]
  },
  {
   "cell_type": "code",
   "execution_count": 8,
   "metadata": {
    "collapsed": false
   },
   "outputs": [
    {
     "name": "stdout",
     "output_type": "stream",
     "text": [
      "epoch       main/loss   validation/main/loss  main/accuracy  validation/main/accuracy  elapsed_time\n",
      "\u001b[J1           1.90275     1.72204               0.451338       0.48914                   239.171       \n",
      "\u001b[J2           1.6945      1.65879               0.496474       0.50504                   477.275       \n",
      "\u001b[J3           1.6494      1.63114               0.506748       0.51236                   708.12        \n",
      "\u001b[J4           1.61887     1.61378               0.515134       0.51772                   945.897       \n",
      "\u001b[J5           1.60761     1.60275               0.51791        0.52096                   1201.65       \n",
      "\u001b[J6           1.58992     1.5941                0.522435       0.5246                    1386.39       \n",
      "\u001b[J7           1.58275     1.58818               0.525981       0.5251                    1525.2        \n",
      "\u001b[J8           1.57637     1.5841                0.526068       0.5268                    1651.83       \n",
      "\u001b[J9           1.56942     1.58028               0.529235       0.52763                   1788.41       \n",
      "\u001b[J10          1.56865     1.57698               0.52843        0.52774                   1936.65       \n"
     ]
    }
   ],
   "source": [
    "char_idx, idx_char, idx, train_data = create_dataset('dataset/alllines.txt')\n",
    "model = RNN(len(char_idx), n_units)\n",
    "model = L.Classifier(model)\n",
    "\n",
    "eval_classifier_model = model.copy()\n",
    "eval_model = model.predictor\n",
    "\n",
    "optimizer = optimizers.Adam(alpha = 0.0005)\n",
    "optimizer.setup(model)\n",
    "\n",
    "train = idx[0:len(idx) - train_test_split] #len(idx) = 4583798\n",
    "test = idx[len(idx) - train_test_split : -1]\n",
    "\n",
    "train_iter = ParallelSequentialIterator(train, batch_size)\n",
    "test_iter = ParallelSequentialIterator(test, batch_size, repeat=False)\n",
    "\n",
    "updater = BPTTUpdater(train_iter, optimizer, 10, -1)\n",
    "\n",
    "trainer = chainer.training.Trainer(updater, (n_epochs, 'epoch'), out='results')\n",
    "\n",
    "trainer.extend(extensions.Evaluator(test_iter, eval_classifier_model, device = -1,eval_hook=lambda _: eval_model.reset_state()))\n",
    "\n",
    "trainer.extend(extensions.dump_graph('main/loss'))\n",
    "\n",
    "interval = (1, 'epoch')\n",
    "\n",
    "trainer.extend(extensions.snapshot_object(model, 'epoch-{.updater.epoch}.model'), trigger=interval)\n",
    "trainer.extend(extensions.snapshot(), trigger=interval)\n",
    "trainer.extend(extensions.LogReport())\n",
    "trainer.extend(extensions.PrintReport(['epoch', 'main/loss', 'validation/main/loss', 'main/accuracy', 'validation/main/accuracy', 'elapsed_time']))\n",
    "trainer.extend(extensions.PlotReport(['main/loss', 'validation/main/loss'], x_key='epoch', file_name='loss.png'))\n",
    "trainer.extend(extensions.PlotReport(['main/accuracy', 'validation/main/accuracy'], x_key='epoch', file_name='accuracy.png'))\n",
    "\n",
    "trainer.run()"
   ]
  },
  {
   "cell_type": "markdown",
   "metadata": {
    "collapsed": true
   },
   "source": [
    "### Prediction"
   ]
  },
  {
   "cell_type": "code",
   "execution_count": 171,
   "metadata": {
    "collapsed": false
   },
   "outputs": [
    {
     "name": "stdout",
     "output_type": "stream",
     "text": [
      "here are you.\"\n",
      "\"Where are you.\"\n",
      "\"Where are you.\"\n",
      "\"Where are you.\"\n",
      "\"Where are you.\"\n",
      "\"Where are you.\"\n"
     ]
    }
   ],
   "source": [
    "model = RNN(len(char_idx), n_units)\n",
    "\n",
    "model = L.Classifier(model)\n",
    "serializers.load_npz('results/epoch-3.model', model)\n",
    "\n",
    "data = np.asarray([2], dtype=np.int32)\n",
    "\n",
    "for i in range(0, 100):\n",
    "    \n",
    "    pred_model = model.predictor(Variable(data))\n",
    "    predicted_char = idx_char[np.argmax(pred_model.data)]\n",
    "    print(predicted_char, end='')\n",
    "    data = np.asarray([char_idx[predicted_char]],dtype=np.int32)"
   ]
  },
  {
   "cell_type": "code",
   "execution_count": null,
   "metadata": {
    "collapsed": true
   },
   "outputs": [],
   "source": []
  }
 ],
 "metadata": {
  "anaconda-cloud": {},
  "kernelspec": {
   "display_name": "Python [default]",
   "language": "python",
   "name": "python3"
  },
  "language_info": {
   "codemirror_mode": {
    "name": "ipython",
    "version": 3
   },
   "file_extension": ".py",
   "mimetype": "text/x-python",
   "name": "python",
   "nbconvert_exporter": "python",
   "pygments_lexer": "ipython3",
   "version": "3.5.2"
  }
 },
 "nbformat": 4,
 "nbformat_minor": 1
}
